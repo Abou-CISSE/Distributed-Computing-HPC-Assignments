{
 "cells": [
  {
   "cell_type": "code",
   "execution_count": 13,
   "metadata": {},
   "outputs": [],
   "source": [
    "import numpy\n",
    "from matplotlib import pyplot, cm\n",
    "from mpl_toolkits.mplot3d import Axes3D\n",
    "import time"
   ]
  },
  {
   "cell_type": "code",
   "execution_count": 14,
   "metadata": {},
   "outputs": [],
   "source": [
    "nx = 41\n",
    "ny = 41\n",
    "nt = 500\n",
    "nit = 50\n",
    "c = 1\n",
    "dx = 2 / (nx - 1)\n",
    "dy = 2 / (ny - 1)\n",
    "x = numpy.linspace(0, 2, nx)\n",
    "y = numpy.linspace(0, 2, ny)\n",
    "X, Y = numpy.meshgrid(x, y)\n",
    "\n",
    "rho = 1\n",
    "nu = .1\n",
    "dt = .001\n",
    "\n",
    "u = numpy.zeros((ny, nx))\n",
    "v = numpy.zeros((ny, nx))\n",
    "p = numpy.zeros((ny, nx)) \n",
    "b = numpy.zeros((ny, nx))"
   ]
  },
  {
   "cell_type": "code",
   "execution_count": 15,
   "metadata": {},
   "outputs": [],
   "source": [
    "def build_up_b(b, rho, dt, u, v, dx, dy):\n",
    "    row, col = p.shape\n",
    "        \n",
    "        \n",
    "    #fill the updating of b\n",
    "    #..\n",
    "\n",
    "    return b"
   ]
  },
  {
   "cell_type": "code",
   "execution_count": 16,
   "metadata": {},
   "outputs": [],
   "source": [
    "def pressure_poisson(p, dx, dy, b):\n",
    "    pn = numpy.empty_like(p)\n",
    "    pn = p.copy()\n",
    "    \n",
    "    for q in range(nit):\n",
    "        pn = p.copy()\n",
    "        row, col = p.shape\n",
    "        \n",
    "        \n",
    "        #fill the updating of p\n",
    "        #..\n",
    "        \n",
    "    return p"
   ]
  },
  {
   "cell_type": "code",
   "execution_count": 17,
   "metadata": {},
   "outputs": [],
   "source": [
    "def cavity_flow(nt, u, v, dt, dx, dy, p, rho, nu):\n",
    "    un = numpy.empty_like(u)\n",
    "    vn = numpy.empty_like(v)\n",
    "    b = numpy.zeros((ny, nx))\n",
    "    \n",
    "    for n in range(nt):\n",
    "        un = u.copy()\n",
    "        vn = v.copy()\n",
    "        \n",
    "        b = build_up_b(b, rho, dt, u, v, dx, dy)\n",
    "        p = pressure_poisson(p, dx, dy, b)\n",
    "        row, col = p.shape\n",
    "        \n",
    "        \n",
    "        #fill the updating of u and v\n",
    "        #..\n",
    "        \n",
    "        \n",
    "    return u, v, p"
   ]
  },
  {
   "cell_type": "code",
   "execution_count": 8,
   "metadata": {},
   "outputs": [],
   "source": [
    "#compute the cpu time of the solving 2d Burgers equation\n",
    "u, v, p = cavity_flow(nt, u, v, dt, dx, dy, p, rho, nu)"
   ]
  },
  {
   "cell_type": "code",
   "execution_count": 19,
   "metadata": {},
   "outputs": [],
   "source": [
    "#Plotting data"
   ]
  }
 ],
 "metadata": {
  "kernelspec": {
   "display_name": "Python 3",
   "language": "python",
   "name": "python3"
  },
  "language_info": {
   "codemirror_mode": {
    "name": "ipython",
    "version": 3
   },
   "file_extension": ".py",
   "mimetype": "text/x-python",
   "name": "python",
   "nbconvert_exporter": "python",
   "pygments_lexer": "ipython3",
   "version": "3.7.4"
  }
 },
 "nbformat": 4,
 "nbformat_minor": 2
}

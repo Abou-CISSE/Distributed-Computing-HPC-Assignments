{
 "cells": [
  {
   "cell_type": "code",
   "execution_count": 2,
   "metadata": {},
   "outputs": [],
   "source": [
    "import numpy as np              #numpy is a library for array operations akin to MATLAB\n",
    "import matplotlib.pyplot as plt  #matplotlib is 2D plotting library\n",
    "import time"
   ]
  },
  {
   "cell_type": "code",
   "execution_count": 4,
   "metadata": {},
   "outputs": [],
   "source": [
    "def solve_1d_Diff():\n",
    "\n",
    "    nx = 501\n",
    "    dx = 2 / (nx - 1)\n",
    "    nt = 1500    #the number of timesteps we want to calculate\n",
    "    nu = 0.3   #the value of viscosity\n",
    "    CFL = .5 #sigma is a parameter, we'll learn more about it later\n",
    "    dt = CFL * dx**2 / nu #dt is defined using sigma ... more later!\n",
    "    grid = np.linspace(0,2,nx) # creating the space grid\n",
    "    \n",
    "    u0 = np.ones(nx)      #a numpy array with nx elements all equal to 1.\n",
    "    u0[int(.5 / dx):int(1 / dx + 1)] = 2  #setting u = 2 between 0.5 and 1 as per our I.C.s\n",
    "    u = u0.copy()\n",
    "    \n",
    "    un = np.ones(nx) #our placeholder array, un, to advance the solution in time\n",
    "    \n",
    "    \n",
    "    #fill the updating of u\n",
    "    #..\n",
    "    \n",
    "    return u0, u, grid"
   ]
  },
  {
   "cell_type": "code",
   "execution_count": 5,
   "metadata": {},
   "outputs": [],
   "source": [
    "#compute the cpu time of the solving 1d linear diffusion\n",
    "u0, u, grid = solve_1d_Diff()"
   ]
  },
  {
   "cell_type": "code",
   "execution_count": 6,
   "metadata": {},
   "outputs": [],
   "source": [
    "#Plotting data"
   ]
  }
 ],
 "metadata": {
  "kernelspec": {
   "display_name": "Python 3",
   "language": "python",
   "name": "python3"
  },
  "language_info": {
   "codemirror_mode": {
    "name": "ipython",
    "version": 3
   },
   "file_extension": ".py",
   "mimetype": "text/x-python",
   "name": "python",
   "nbconvert_exporter": "python",
   "pygments_lexer": "ipython3",
   "version": "3.7.4"
  }
 },
 "nbformat": 4,
 "nbformat_minor": 2
}

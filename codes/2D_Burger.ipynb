{
 "cells": [
  {
   "cell_type": "code",
   "execution_count": 5,
   "metadata": {},
   "outputs": [],
   "source": [
    "import numpy\n",
    "from matplotlib import pyplot, cm\n",
    "from mpl_toolkits.mplot3d import Axes3D\n",
    "\n",
    "import time"
   ]
  },
  {
   "cell_type": "code",
   "execution_count": 6,
   "metadata": {},
   "outputs": [],
   "source": [
    "@njit(fastmath=True)\n",
    "def solve_2d_Burger():\n",
    "    ###variable declarations\n",
    "    nx = 41\n",
    "    ny = 41\n",
    "    nt = 420\n",
    "    dx = 2 / (nx - 1)\n",
    "    dy = 2 / (ny - 1)\n",
    "    sigma = .0009\n",
    "    nu = 0.01\n",
    "    dt = sigma * dx * dy / nu\n",
    "    \n",
    "    \n",
    "    x = numpy.linspace(0, 2, nx)\n",
    "    y = numpy.linspace(0, 2, ny)\n",
    "    \n",
    "    u = numpy.ones((ny, nx))  # create a 1xn vector of 1's\n",
    "    v = numpy.ones((ny, nx))\n",
    "    un = numpy.ones((ny, nx)) \n",
    "    vn = numpy.ones((ny, nx))\n",
    "    \n",
    "    ###Assign initial conditions\n",
    "    \n",
    "    ##set hat function I.C. : u(.5<=x<=1 && .5<=y<=1 ) is 2\n",
    "    u[int(.5 / dy):int(1 / dy + 1),int(.5 / dx):int(1 / dx + 1)] = 2 \n",
    "    ##set hat function I.C. : u(.5<=x<=1 && .5<=y<=1 ) is 2\n",
    "    v[int(.5 / dy):int(1 / dy + 1),int(.5 / dx):int(1 / dx + 1)] = 2\n",
    "    row, col = u.shape\n",
    "    \n",
    "        \n",
    "    #fill the updating of u and v\n",
    "    #..    \n",
    "    \n",
    "    return x, y, u\n"
   ]
  },
  {
   "cell_type": "code",
   "execution_count": 7,
   "metadata": {},
   "outputs": [],
   "source": [
    "#compute the cpu time of the solving 2d Burgers equation\n",
    "x, y, u = solve_2d_Burger()"
   ]
  },
  {
   "cell_type": "code",
   "execution_count": 8,
   "metadata": {},
   "outputs": [],
   "source": [
    "#Plotting data"
   ]
  }
 ],
 "metadata": {
  "kernelspec": {
   "display_name": "Python 3",
   "language": "python",
   "name": "python3"
  },
  "language_info": {
   "codemirror_mode": {
    "name": "ipython",
    "version": 3
   },
   "file_extension": ".py",
   "mimetype": "text/x-python",
   "name": "python",
   "nbconvert_exporter": "python",
   "pygments_lexer": "ipython3",
   "version": "3.7.4"
  }
 },
 "nbformat": 4,
 "nbformat_minor": 2
}

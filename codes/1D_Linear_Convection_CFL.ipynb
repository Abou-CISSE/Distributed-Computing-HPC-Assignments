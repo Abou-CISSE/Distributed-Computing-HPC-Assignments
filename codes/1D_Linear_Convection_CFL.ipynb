{
 "cells": [
  {
   "cell_type": "code",
   "execution_count": 1,
   "metadata": {},
   "outputs": [],
   "source": [
    "import numpy as np                    #here we load numpy\n",
    "import matplotlib.pyplot as plt   #here we load matplotlib\n",
    "import time                   #and load some utilities\n",
    "from numba import njit"
   ]
  },
  {
   "cell_type": "code",
   "execution_count": 15,
   "metadata": {},
   "outputs": [],
   "source": [
    "@njit(fastmath=True)\n",
    "def linearconv_withoutCFL(nx):\n",
    "    dx = 2 / (nx - 1)\n",
    "    nt = 20    #nt is the number of timesteps we want to calculate\n",
    "    dt = .025  #dt is the amount of time each timestep covers (delta t)\n",
    "    c = 1\n",
    "    grid = np.linspace(0,2,nx) # creating the space grid\n",
    "    \n",
    "    u0 = np.ones(nx)      #defining a numpy array which is nx elements long with every value equal to 1.\n",
    "    u0[int(.5/dx):int(1 / dx + 1)] = 2  #setting u = 2 between 0.5 and 1 as per our I.C.s\n",
    "    u = u0.copy()\n",
    "\n",
    "    un = np.ones(nx) #initializing our placeholder array, un, to hold the values we calculate for the n+1 timestep\n",
    "\n",
    "    for n in range(nt):  #iterate through time\n",
    "        un = u.copy() ##copy the existing values of u into un\n",
    "        for i in range(1, nx):\n",
    "            u[i] = un[i] - c * dt / dx * (un[i] - un[i-1])\n",
    "        \n",
    "    return u0, u, grid"
   ]
  },
  {
   "cell_type": "code",
   "execution_count": 29,
   "metadata": {},
   "outputs": [
    {
     "name": "stdout",
     "output_type": "stream",
     "text": [
      "Execution time is : 0.17714500427246094 ms\n"
     ]
    }
   ],
   "source": [
    "nx = 83\n",
    "#compute the cpu time of the solving 1d linear convection\n",
    "start = time.time()\n",
    "u0, u, grid = linearconv_withoutCFL(nx)\n",
    "#u0, u, grid = linearconv_withCFL(nx)\n",
    "end = time.time()        \n",
    "print(\"Execution time is : {msec} ms\".format(msec=(end-start)*1000) )       "
   ]
  },
  {
   "cell_type": "code",
   "execution_count": null,
   "metadata": {},
   "outputs": [],
   "source": [
    "#Plotting data\n",
    "plt.plot(grid,u0);\n",
    "plt.plot(grid,u);\n",
    "plt.ylim([1.,2.2])\n",
    "plt.xlabel('X')\n",
    "plt.ylabel('Velocity')    \n",
    "plt.title('1D Linear Convection')   "
   ]
  },
  {
   "cell_type": "code",
   "execution_count": 23,
   "metadata": {},
   "outputs": [],
   "source": [
    "@njit\n",
    "def linearconv_withCFL(nx):\n",
    "    dx = 2 / (nx - 1)\n",
    "    nt = 20    #nt is the number of timesteps we want to calculate\n",
    "    c = 1\n",
    "    CFL = 0.4\n",
    "    dt = CFL*dx/np.fabs(c) \n",
    "    grid = np.linspace(0,2,nx) # creating the space grid\n",
    "    \n",
    "    u0 = np.ones(nx)      #defining a numpy array which is nx elements long with every value equal to 1.\n",
    "    u0[int(.5/dx):int(1 / dx + 1)] = 2  #setting u = 2 between 0.5 and 1 as per our I.C.s\n",
    "    u = u0.copy()\n",
    "\n",
    "    un = np.ones(nx) #initializing our placeholder array, un, to hold the values we calculate for the n+1 timestep\n",
    "\n",
    "    for n in range(nt):  #iterate through time\n",
    "        un = u.copy() ##copy the existing values of u into un\n",
    "        for i in range(1, nx):\n",
    "            u[i] = un[i] - c * dt / dx * (un[i] - un[i-1])\n",
    "        \n",
    "    return u0, u, grid"
   ]
  },
  {
   "cell_type": "code",
   "execution_count": 27,
   "metadata": {},
   "outputs": [
    {
     "name": "stdout",
     "output_type": "stream",
     "text": [
      "Execution time is : 0.2205371856689453 ms\n"
     ]
    }
   ],
   "source": [
    "nx = 83\n",
    "#compute the cpu time of the solving 1d linear convection\n",
    "start = time.time()\n",
    "u0, u, grid = linearconv_withCFL(nx)\n",
    "end = time.time()        \n",
    "print(\"Execution time is : {msec} ms\".format(msec=(end-start)*1000) )      "
   ]
  },
  {
   "cell_type": "code",
   "execution_count": 28,
   "metadata": {},
   "outputs": [
    {
     "data": {
      "text/plain": [
       "Text(0.5, 1.0, '1D Linear Convection')"
      ]
     },
     "execution_count": 28,
     "metadata": {},
     "output_type": "execute_result"
    },
    {
     "data": {
      "image/png": "[encoded data removed]",
      "text/plain": [
       "<Figure size 432x288 with 1 Axes>"
      ]
     },
     "metadata": {
      "needs_background": "light"
     },
     "output_type": "display_data"
    }
   ],
   "source": [
    "#Plotting data\n",
    "plt.plot(grid,u0);\n",
    "plt.plot(grid,u);\n",
    "plt.ylim([1.,2.2])\n",
    "plt.xlabel('X')\n",
    "plt.ylabel('Velocity')    \n",
    "plt.title('1D Linear Convection')"
   ]
  }
 ],
 "metadata": {
  "kernelspec": {
   "display_name": "Python 3",
   "language": "python",
   "name": "python3"
  },
  "language_info": {
   "codemirror_mode": {
    "name": "ipython",
    "version": 3
   },
   "file_extension": ".py",
   "mimetype": "text/x-python",
   "name": "python",
   "nbconvert_exporter": "python",
   "pygments_lexer": "ipython3",
   "version": "3.7.4"
  }
 },
 "nbformat": 4,
 "nbformat_minor": 2
}

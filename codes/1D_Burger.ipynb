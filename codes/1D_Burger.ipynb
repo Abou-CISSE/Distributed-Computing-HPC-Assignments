{
 "cells": [
  {
   "cell_type": "code",
   "execution_count": 5,
   "metadata": {},
   "outputs": [],
   "source": [
    "import numpy as np\n",
    "import sympy as sp\n",
    "from sympy.utilities.lambdify import lambdify\n",
    "import matplotlib.pyplot as plt\n",
    "import time\n",
    "\n",
    "from sympy import init_printing\n",
    "init_printing(use_latex=True)"
   ]
  },
  {
   "cell_type": "code",
   "execution_count": 12,
   "metadata": {},
   "outputs": [],
   "source": [
    "def solve_1d_burger():\n",
    "    x, nu, t = sp.symbols('x nu t')\n",
    "    phi = (sp.exp(-(x - 4 * t)**2 / (4 * nu * (t + 1))) +\n",
    "           sp.exp(-(x - 4 * t - 2 * sp.pi)**2 / (4 * nu * (t + 1))))\n",
    "    \n",
    "    phiprime = phi.diff(x)\n",
    "    u = -2 * nu * (phiprime / phi) + 4\n",
    "    ufunc = lambdify((t, x, nu), u)\n",
    "    \n",
    "    ###variable declarations\n",
    "    nx = 201\n",
    "    nt = 100\n",
    "    dx = 2 * np.pi / (nx - 1)\n",
    "    nu = .07\n",
    "    dt = dx * nu\n",
    "    \n",
    "    x = np.linspace(0, 2 * np.pi, nx)\n",
    "    un = np.empty(nx)\n",
    "    t = 0\n",
    "       \n",
    "    # Analytical solution\n",
    "    u_analytical = np.asarray([ufunc(nt * dt, xi, nu) for xi in x])\n",
    "    \n",
    "    \n",
    "    #fill the updating of u\n",
    "    #..\n",
    "        \n",
    "    return x, u, u_analytical"
   ]
  },
  {
   "cell_type": "code",
   "execution_count": 13,
   "metadata": {},
   "outputs": [],
   "source": [
    "#compute the cpu time of the solving 1d burger\n",
    "x, u, u_analytical = solve_1d_burger()"
   ]
  },
  {
   "cell_type": "code",
   "execution_count": 9,
   "metadata": {},
   "outputs": [],
   "source": [
    "#plottind analytical and computational solution"
   ]
  }
 ],
 "metadata": {
  "kernelspec": {
   "display_name": "Python 3",
   "language": "python",
   "name": "python3"
  },
  "language_info": {
   "codemirror_mode": {
    "name": "ipython",
    "version": 3
   },
   "file_extension": ".py",
   "mimetype": "text/x-python",
   "name": "python",
   "nbconvert_exporter": "python",
   "pygments_lexer": "ipython3",
   "version": "3.7.4"
  }
 },
 "nbformat": 4,
 "nbformat_minor": 2
}

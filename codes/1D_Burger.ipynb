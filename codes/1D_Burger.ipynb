{
 "cells": [
  {
   "cell_type": "code",
   "execution_count": 1,
   "metadata": {},
   "outputs": [],
   "source": [
    "import numpy as np\n",
    "import sympy as sp\n",
    "from sympy.utilities.lambdify import lambdify\n",
    "import matplotlib.pyplot as plt\n",
    "import time\n",
    "\n",
    "from sympy import init_printing\n",
    "init_printing(use_latex=True)"
   ]
  },
  {
   "cell_type": "code",
   "execution_count": 2,
   "metadata": {},
   "outputs": [],
   "source": [
    "def solve_1d_burger():\n",
    "    x, nu, t = sp.symbols('x nu t')\n",
    "    phi = (sp.exp(-(x - 4 * t)**2 / (4 * nu * (t + 1))) +\n",
    "           sp.exp(-(x - 4 * t - 2 * sp.pi)**2 / (4 * nu * (t + 1))))\n",
    "    \n",
    "    phiprime = phi.diff(x)\n",
    "    u = -2 * nu * (phiprime / phi) + 4\n",
    "    ufunc = lambdify((t, x, nu), u)\n",
    "    \n",
    "    ###variable declarations\n",
    "    nx = 201\n",
    "    nt = 100\n",
    "    dx = 2 * np.pi / (nx - 1)\n",
    "    nu = .07\n",
    "    dt = dx * nu\n",
    "    \n",
    "    x = np.linspace(0, 2 * np.pi, nx)\n",
    "    un = np.empty(nx)\n",
    "    t = 0\n",
    "    \n",
    "    u = np.asarray([ufunc(t, x0, nu) for x0 in x])\n",
    "    plt.figure()\n",
    "    plt.plot(x, u, marker='o', lw=2)\n",
    "    plt.xlim([0, 2 * np.pi])\n",
    "    plt.ylim([0, 10]);\n",
    "    \n",
    "    # Analytical solution\n",
    "    u_analytical = np.asarray([ufunc(nt * dt, xi, nu) for xi in x])\n",
    "    \n",
    "    \n",
    "    for n in range(nt):\n",
    "        un = u.copy()\n",
    "        for i in range(1, nx-1):\n",
    "            u[i] = un[i] - un[i] * dt / dx *(un[i] - un[i-1]) + nu * dt / dx**2 *\\\n",
    "                    (un[i+1] - 2 * un[i] + un[i-1])\n",
    "        u[0] = un[0] - un[0] * dt / dx * (un[0] - un[-2]) + nu * dt / dx**2 *\\\n",
    "                    (un[1] - 2 * un[0] + un[-2])\n",
    "        u[-1] = u[0]\n",
    "        \n",
    "    return x, u, u_analytical"
   ]
  },
  {
   "cell_type": "code",
   "execution_count": 3,
   "metadata": {},
   "outputs": [
    {
     "name": "stdout",
     "output_type": "stream",
     "text": [
      "Execution time is : 254.72569465637207 ms\n"
     ]
    },
    {
     "data": {
      "image/png": "[encoded data removed]",
      "text/plain": [
       "<Figure size 432x288 with 1 Axes>"
      ]
     },
     "metadata": {
      "needs_background": "light"
     },
     "output_type": "display_data"
    }
   ],
   "source": [
    "#compute the cpu time of the solving 1d linear diffusion\n",
    "start = time.time()\n",
    "x, u, u_analytical = solve_1d_burger()\n",
    "end = time.time()        \n",
    "print(\"Execution time is : {msec} ms\".format(msec=(end-start)*1000) )      \n"
   ]
  },
  {
   "cell_type": "code",
   "execution_count": 4,
   "metadata": {},
   "outputs": [
    {
     "data": {
      "image/png": "[encoded data removed]",
      "text/plain": [
       "<Figure size 432x288 with 1 Axes>"
      ]
     },
     "metadata": {
      "needs_background": "light"
     },
     "output_type": "display_data"
    }
   ],
   "source": [
    "plt.figure()\n",
    "plt.plot(x,u, marker='o', lw=2, label='Computational')\n",
    "plt.plot(x, u_analytical, label='Analytical')\n",
    "plt.xlim([0, 2 * np.pi])\n",
    "plt.ylim([0, 10])\n",
    "plt.legend();"
   ]
  }
 ],
 "metadata": {
  "kernelspec": {
   "display_name": "Python 3",
   "language": "python",
   "name": "python3"
  },
  "language_info": {
   "codemirror_mode": {
    "name": "ipython",
    "version": 3
   },
   "file_extension": ".py",
   "mimetype": "text/x-python",
   "name": "python",
   "nbconvert_exporter": "python",
   "pygments_lexer": "ipython3",
   "version": "3.7.4"
  }
 },
 "nbformat": 4,
 "nbformat_minor": 2
}

{
 "cells": [
  {
   "cell_type": "code",
   "execution_count": 6,
   "metadata": {},
   "outputs": [],
   "source": [
    "import numpy\n",
    "from matplotlib import pyplot, cm\n",
    "from mpl_toolkits.mplot3d import Axes3D ##library for 3d projection plots\n",
    "import time"
   ]
  },
  {
   "cell_type": "code",
   "execution_count": 11,
   "metadata": {},
   "outputs": [],
   "source": [
    "def solve_2d_diff(nt):\n",
    "\n",
    "    ###variable declarations\n",
    "    nx = 101\n",
    "    ny = 101\n",
    "    nu = .05\n",
    "    dx = 2 / (nx - 1)\n",
    "    dy = 2 / (ny - 1)\n",
    "    sigma = .25\n",
    "    dt = sigma * dx * dy / nu\n",
    "    \n",
    "    x = numpy.linspace(0, 2, nx)\n",
    "    y = numpy.linspace(0, 2, ny)\n",
    "    \n",
    "    u = numpy.ones((ny, nx))  # create a 1xn vector of 1's\n",
    "    un = numpy.ones((ny, nx))\n",
    "    row, col = u.shape\n",
    "    \n",
    "    ###Assign initial conditions\n",
    "    # set hat function I.C. : u(.5<=x<=1 && .5<=y<=1 ) is 2\n",
    "    u[int(.5 / dy):int(1 / dy + 1),int(.5 / dx):int(1 / dx + 1)] = 2\n",
    "    \n",
    "    \n",
    "    #fill the updating of u\n",
    "    #..\n",
    "        \n",
    "    return x, y, u"
   ]
  },
  {
   "cell_type": "code",
   "execution_count": 12,
   "metadata": {},
   "outputs": [],
   "source": [
    "nt = 51\n",
    "#compute the cpu time of the solving 2d linear diffusion\n",
    "x, y, u = solve_2d_diff(nt)"
   ]
  },
  {
   "cell_type": "code",
   "execution_count": 13,
   "metadata": {},
   "outputs": [],
   "source": [
    "#Plotting data"
   ]
  }
 ],
 "metadata": {
  "kernelspec": {
   "display_name": "Python 3",
   "language": "python",
   "name": "python3"
  },
  "language_info": {
   "codemirror_mode": {
    "name": "ipython",
    "version": 3
   },
   "file_extension": ".py",
   "mimetype": "text/x-python",
   "name": "python",
   "nbconvert_exporter": "python",
   "pygments_lexer": "ipython3",
   "version": "3.7.4"
  }
 },
 "nbformat": 4,
 "nbformat_minor": 2
}

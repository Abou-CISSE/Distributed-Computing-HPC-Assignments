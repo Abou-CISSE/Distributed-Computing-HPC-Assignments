{
 "cells": [
  {
   "cell_type": "code",
   "execution_count": 4,
   "metadata": {},
   "outputs": [],
   "source": [
    "import numpy as np                    #here we load numpy\n",
    "import matplotlib.pyplot as plt   #here we load matplotlib\n",
    "import time                   #and load some utilities"
   ]
  },
  {
   "cell_type": "code",
   "execution_count": 5,
   "metadata": {},
   "outputs": [],
   "source": [
    "def solve_1d_linear_conv():\n",
    "\n",
    "    nx = 2001  # try changing this number from 41 to 81 and Run All ... what happens?\n",
    "    dx = 2 / (nx-1)\n",
    "    nt = 2000    #nt is the number of timesteps we want to calculate\n",
    "    c = 1      #assume wavespeed of c = 1\n",
    "    dt = 0.0004\n",
    "    grid = np.linspace(0,2,nx) # creating the space grid\n",
    "    \n",
    "    u0 = np.ones(nx)      #numpy function ones()\n",
    "    u0[int(.5 / dx):int(1 / dx + 1)] = 2  #setting u = 2 between 0.5 and 1 as per our I.C.s\n",
    "    u = u0.copy()\n",
    "    \n",
    "    \n",
    "    #fill the updating of u\n",
    "    #...\n",
    "        \n",
    "    return u0, u, grid"
   ]
  },
  {
   "cell_type": "code",
   "execution_count": 6,
   "metadata": {},
   "outputs": [],
   "source": [
    "#compute the cpu time of the solving 1d linear convection\n",
    "u0, u, grid = solve_1d_linear_conv()"
   ]
  },
  {
   "cell_type": "code",
   "execution_count": 7,
   "metadata": {},
   "outputs": [],
   "source": [
    "#Plotting data"
   ]
  }
 ],
 "metadata": {
  "kernelspec": {
   "display_name": "Python 3",
   "language": "python",
   "name": "python3"
  },
  "language_info": {
   "codemirror_mode": {
    "name": "ipython",
    "version": 3
   },
   "file_extension": ".py",
   "mimetype": "text/x-python",
   "name": "python",
   "nbconvert_exporter": "python",
   "pygments_lexer": "ipython3",
   "version": "3.7.4"
  }
 },
 "nbformat": 4,
 "nbformat_minor": 2
}

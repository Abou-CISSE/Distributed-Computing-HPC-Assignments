{
 "cells": [
  {
   "cell_type": "code",
   "execution_count": 1,
   "metadata": {},
   "outputs": [],
   "source": [
    "import numpy as np                    #here we load numpy\n",
    "import matplotlib.pyplot as plt   #here we load matplotlib\n",
    "import time                   #and load some utilities\n",
    "from numba import njit"
   ]
  },
  {
   "cell_type": "code",
   "execution_count": 2,
   "metadata": {},
   "outputs": [],
   "source": [
    "@njit(fastmath=True)\n",
    "def solve_1d_Linear_convec():\n",
    "\n",
    "    nx = 2001  # try changing this number from 41 to 81 and Run All ... what happens?\n",
    "    dx = 2 / (nx-1)\n",
    "    nt = 1500    #nt is the number of timesteps we want to calculate\n",
    "    dt = 0.0004\n",
    "    grid = np.linspace(0,2,nx) # creating the space grid\n",
    "    \n",
    "    u0 = np.ones(nx)      #numpy function ones()\n",
    "    u0[int(.5 / dx):int(1 / dx + 1)] = 2  #setting u = 2 between 0.5 and 1 as per our I.C.s\n",
    "    u = u0.copy()\n",
    "    \n",
    "    \n",
    "    for n in range(nt):  #loop for values of n from 0 to nt, so it will run nt times\n",
    "        un = u.copy() ##copy the existing values of u into un\n",
    "        for i in range(1, nx): \n",
    "            u[i] = un[i] - un[i] * dt / dx * (un[i] - un[i-1])\n",
    "    \n",
    "    \n",
    "   \n",
    "    un = np.ones(nx) #initialize a temporary array\n",
    "    \n",
    "    return u0, u, grid"
   ]
  },
  {
   "cell_type": "code",
   "execution_count": 3,
   "metadata": {},
   "outputs": [
    {
     "name": "stdout",
     "output_type": "stream",
     "text": [
      "Execution time is : 437.4387264251709 ms\n"
     ]
    }
   ],
   "source": [
    "#compute the cpu time of the solving 1d linear convection\n",
    "start = time.time()\n",
    "u0, u, grid = solve_1d_Linear_convec()\n",
    "end = time.time()        \n",
    "print(\"Execution time is : {msec} ms\".format(msec=(end-start)*1000) )   "
   ]
  },
  {
   "cell_type": "code",
   "execution_count": 4,
   "metadata": {},
   "outputs": [
    {
     "data": {
      "text/plain": [
       "Text(0.5, 1.0, '1D Nonlinear Convection')"
      ]
     },
     "execution_count": 4,
     "metadata": {},
     "output_type": "execute_result"
    },
    {
     "data": {
      "image/png": "[encoded data removed]",
      "text/plain": [
       "<Figure size 432x288 with 1 Axes>"
      ]
     },
     "metadata": {
      "needs_background": "light"
     },
     "output_type": "display_data"
    }
   ],
   "source": [
    "#Plotting data\n",
    "plt.plot(grid,u0)\n",
    "plt.plot(grid,u);\n",
    "plt.ylim([1.,2.2])\n",
    "plt.xlabel('X')\n",
    "plt.ylabel('Velocity')    \n",
    "plt.title('1D Nonlinear Convection')"
   ]
  }
 ],
 "metadata": {
  "kernelspec": {
   "display_name": "Python 3",
   "language": "python",
   "name": "python3"
  },
  "language_info": {
   "codemirror_mode": {
    "name": "ipython",
    "version": 3
   },
   "file_extension": ".py",
   "mimetype": "text/x-python",
   "name": "python",
   "nbconvert_exporter": "python",
   "pygments_lexer": "ipython3",
   "version": "3.7.4"
  }
 },
 "nbformat": 4,
 "nbformat_minor": 2
}

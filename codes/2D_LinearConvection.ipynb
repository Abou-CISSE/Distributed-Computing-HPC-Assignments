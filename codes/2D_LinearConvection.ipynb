{
 "cells": [
  {
   "cell_type": "code",
   "execution_count": 9,
   "metadata": {},
   "outputs": [],
   "source": [
    "from mpl_toolkits.mplot3d import Axes3D    ##New Library required for projected 3d plots\n",
    "import numpy\n",
    "from matplotlib import pyplot, cm\n",
    "import time"
   ]
  },
  {
   "cell_type": "code",
   "execution_count": 10,
   "metadata": {},
   "outputs": [],
   "source": [
    "def solve_2d_linearconv():\n",
    "    ###variable declarations\n",
    "    nx = 201\n",
    "    ny = 201\n",
    "    nt = 100\n",
    "    c = 1\n",
    "    dx = 2 / (nx - 1)\n",
    "    dy = 2 / (ny - 1)\n",
    "    sigma = .2\n",
    "    dt = sigma * dx\n",
    "    \n",
    "    x = numpy.linspace(0, 2, nx)\n",
    "    y = numpy.linspace(0, 2, ny)\n",
    "    \n",
    "    u0 = numpy.ones((ny, nx)) ##create a 1xn vector of 1's\n",
    "    un = numpy.ones((ny, nx)) ##\n",
    "    \n",
    "    ###Assign initial conditions    \n",
    "    \n",
    "    ##set hat function I.C. : u(.5<=x<=1 && .5<=y<=1 ) is 2\n",
    "    u0[int(.5 / dy):int(1 / dy + 1),int(.5 / dx):int(1 / dx + 1)] = 2 \n",
    "    u=u0.copy()\n",
    "    row, col = u.shape\n",
    "\n",
    "    \n",
    "    #fill the updating of u\n",
    "    #..\n",
    "               \n",
    "    return x, y, u0, u"
   ]
  },
  {
   "cell_type": "code",
   "execution_count": 11,
   "metadata": {},
   "outputs": [],
   "source": [
    "#compute the cpu time of the solving 2d linear convection\n",
    "x, y, u0, u = solve_2d_linearconv() "
   ]
  },
  {
   "cell_type": "code",
   "execution_count": 12,
   "metadata": {},
   "outputs": [],
   "source": [
    "###Plot Initial Condition and solution"
   ]
  }
 ],
 "metadata": {
  "kernelspec": {
   "display_name": "Python 3",
   "language": "python",
   "name": "python3"
  },
  "language_info": {
   "codemirror_mode": {
    "name": "ipython",
    "version": 3
   },
   "file_extension": ".py",
   "mimetype": "text/x-python",
   "name": "python",
   "nbconvert_exporter": "python",
   "pygments_lexer": "ipython3",
   "version": "3.7.4"
  }
 },
 "nbformat": 4,
 "nbformat_minor": 2
}

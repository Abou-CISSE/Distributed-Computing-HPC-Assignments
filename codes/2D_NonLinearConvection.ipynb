{
 "cells": [
  {
   "cell_type": "code",
   "execution_count": 10,
   "metadata": {},
   "outputs": [],
   "source": [
    "from mpl_toolkits.mplot3d import Axes3D\n",
    "from matplotlib import pyplot, cm\n",
    "import numpy\n",
    "import time"
   ]
  },
  {
   "cell_type": "code",
   "execution_count": 11,
   "metadata": {},
   "outputs": [],
   "source": [
    "def solve_2d_NonlinConv():\n",
    "\n",
    "    ###variable declarations\n",
    "    nx = 101\n",
    "    ny = 101\n",
    "    nt = 80\n",
    "    c = 1\n",
    "    dx = 2 / (nx - 1)\n",
    "    dy = 2 / (ny - 1)\n",
    "    sigma = .2\n",
    "    dt = sigma * dx\n",
    "    \n",
    "    x = numpy.linspace(0, 2, nx)\n",
    "    y = numpy.linspace(0, 2, ny)\n",
    "    \n",
    "    u = numpy.ones((ny, nx)) ##create a 1xn vector of 1's\n",
    "    v = numpy.ones((ny, nx))\n",
    "    un = numpy.ones((ny, nx))\n",
    "    vn = numpy.ones((ny, nx))\n",
    "    \n",
    "    ###Assign initial conditions\n",
    "    ##set hat function I.C. : u(.5<=x<=1 && .5<=y<=1 ) is 2\n",
    "    u[int(.5 / dy):int(1 / dy + 1), int(.5 / dx):int(1 / dx + 1)] = 2\n",
    "    ##set hat function I.C. : v(.5<=x<=1 && .5<=y<=1 ) is 2\n",
    "    v[int(.5 / dy):int(1 / dy + 1), int(.5 / dx):int(1 / dx + 1)] = 2\n",
    "    row, col = u.shape\n",
    "    \n",
    "    #fill the updating of u and v\n",
    "    #..\n",
    "                \n",
    "    return x, y, u, v\n"
   ]
  },
  {
   "cell_type": "code",
   "execution_count": 12,
   "metadata": {},
   "outputs": [],
   "source": [
    "#compute the cpu time of the solving 2d NavierStokes\n",
    "x, y, u, v = solve_2d_NonlinConv() "
   ]
  },
  {
   "cell_type": "code",
   "execution_count": 13,
   "metadata": {},
   "outputs": [],
   "source": [
    "#Plotting data"
   ]
  }
 ],
 "metadata": {
  "kernelspec": {
   "display_name": "Python 3",
   "language": "python",
   "name": "python3"
  },
  "language_info": {
   "codemirror_mode": {
    "name": "ipython",
    "version": 3
   },
   "file_extension": ".py",
   "mimetype": "text/x-python",
   "name": "python",
   "nbconvert_exporter": "python",
   "pygments_lexer": "ipython3",
   "version": "3.7.4"
  }
 },
 "nbformat": 4,
 "nbformat_minor": 2
}

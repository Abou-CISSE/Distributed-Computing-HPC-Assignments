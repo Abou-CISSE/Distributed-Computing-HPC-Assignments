{
 "cells": [
  {
   "cell_type": "markdown",
   "metadata": {},
   "source": [
    "## Imports"
   ]
  },
  {
   "cell_type": "code",
   "execution_count": 1,
   "metadata": {},
   "outputs": [],
   "source": [
    "import numpy as np\n",
    "from matplotlib import pyplot, cm\n",
    "from mpl_toolkits.mplot3d import Axes3D\n",
    "from numba import njit\n",
    "import time\n",
    "from numba import njit\n",
    "from pyccel.epyccel import epyccel\n",
    "from pyccel.decorators import types"
   ]
  },
  {
   "cell_type": "markdown",
   "metadata": {},
   "source": [
    "#  Navier Stokes Equation"
   ]
  },
  {
   "cell_type": "markdown",
   "metadata": {},
   "source": [
    "# Pure python"
   ]
  },
  {
   "cell_type": "code",
   "execution_count": 2,
   "metadata": {},
   "outputs": [],
   "source": [
    "@njit(fastmath=True)\n",
    "def build_up_b_numba(b, rho, dt, u, v, dx, dy):\n",
    "    row, col = u.shape\n",
    "    b = np.zeros_like(u)\n",
    "    kx=1/(2*dx)\n",
    "    ky=1/(2*dy)\n",
    "    \n",
    "\n",
    "    for i in range(2, row):\n",
    "        for j in range(2, col):\n",
    "                                                          \n",
    "            b[i-1,j-1]=((1/dt)*(kx*(u[i,j-1] -u[i-2,j-1]) + ky*(v[i-1,j] -v[i-1,j-2])) -\n",
    "                        (kx*(u[i,j-1] -u[i-2,j-1]))**2 - \n",
    "                        2*ky*kx*(u[i-1,j] -u[i-1,j-2])*(v[i,j-1] -v[i-2,j-1]) - \n",
    "                        (ky*(v[i-1,j] -v[i-1,j-2]))**2)\n",
    "\n",
    "    return b\n",
    "@njit(fastmath=True)\n",
    "def pressure_poisson_numba(p, dx, dy, b):\n",
    "    pn = np.empty_like(p)\n",
    "    row, col = p.shape\n",
    "    pn = pn.copy()\n",
    "                            \n",
    "    for i in range(2, row):\n",
    "            for j in range(2, col):\n",
    "                p[i-1, j-1] = (((pn[i-1, j] + pn[i-1, j-2]) * dy**2 +\n",
    "                                (pn[i, j-1] + pn[i-2, j-1]) * dx**2 -\n",
    "                                b[i-1, j-1] * dx**2 * dy**2) / \n",
    "                                (2 * (dx**2 + dy**2)))\n",
    "        \n",
    "        #les condition aux bords\n",
    "        # pour x=0 et x=2\n",
    "    p[:, 0] = p[:,1]\n",
    "    p[:, col-1] =p[:,col-2]\n",
    "                                   \n",
    "        # pour y=0                \n",
    "    p[0 , :] = p[1 , :]\n",
    "                            \n",
    "        # pour y=2                     \n",
    "    p[row-1, :] = 0\n",
    "       \n",
    "        \n",
    "    return p\n",
    "@njit(fastmath=True)\n",
    "def cavity_flow_numba(nt, u, v, dt, nx, ny, dx, dy, p, rho, nu):\n",
    "    un = np.empty_like(u)\n",
    "    vn = np.empty_like(v)\n",
    "    b = np.zeros((ny, nx))\n",
    "    row, col = u.shape\n",
    "    \n",
    "    pn = np.empty_like(p)\n",
    "    pn = p.copy()\n",
    "    kx=dt/dx\n",
    "    ky=dt/dy\n",
    "    k1=nu*dt/dx**2\n",
    "    k2=nu*dt/dy**2\n",
    "    for k in range(nt):\n",
    "        un=u.copy()\n",
    "        vn=v.copy()\n",
    "        for i in range(2, row):\n",
    "            for j in range(2, col):\n",
    "                                                          \n",
    "                u[i-1,j-1]=(un[i-1,j-1] -\n",
    "                            kx*un[i-1,j-1]*(un[i-1,j-1] - un[i-2,j-1]) -\n",
    "                            ky*vn[i-1,j-1]*(un[i-1,j-1] - un[i-1,j-2]) -\n",
    "                            (kx/(2*rho))*(p[i,j-1]-p[i-2,j-1]) +\n",
    "                            k1*(un[i,j-1] - 2*un[i-1,j-1] + un[i-2,j-1]) +\n",
    "                            k2*(un[i-1,j] - 2*un[i-1,j-1] + un[i-1,j-2]))\n",
    "                \n",
    "                v[i-1,j-1]=(vn[i-1,j-1] -\n",
    "                            kx*un[i-1,j-1]*(vn[i-1,j-1] - vn[i-2,j-1]) -\n",
    "                            ky*vn[i-1,j-1]*(vn[i-1,j-1] - vn[i-1,j-2]) -\n",
    "                            (ky/(2*rho))*(p[i-1,j]-p[i-1,j-2]) +\n",
    "                            k1*(vn[i,j-1] - 2*vn[i-1,j-1] + vn[i-2,j-1]) +\n",
    "                            k2*(vn[i-1,j] - 2*vn[i-1,j-1] + vn[i-1,j-2]))\n",
    "    \n",
    "            #les condition aux bords\n",
    "        # pour x=0 et x=2\n",
    "        u[:, 0] = 0\n",
    "        u[:, col-1] =0\n",
    "        \n",
    "        v[:, 0] = 0\n",
    "        v[:, col-1] =0\n",
    "                                   \n",
    "        # pour y=0                \n",
    "        u[0, :] = 0\n",
    "        v[0, :] = 0                    \n",
    "        # pour y=2                     \n",
    "        u[row-1, :] = 1\n",
    "        v[row-1, :] = 0\n",
    "        \n",
    "        \n",
    "    return u, v, p"
   ]
  },
  {
   "cell_type": "markdown",
   "metadata": {},
   "source": [
    "## Numba accelerator"
   ]
  },
  {
   "cell_type": "code",
   "execution_count": 3,
   "metadata": {},
   "outputs": [],
   "source": [
    "def build_up_b_pure(b, rho, dt, u, v, dx, dy):\n",
    "    row, col = u.shape\n",
    "    b = np.zeros_like(u)\n",
    "    kx=1/(2*dx)\n",
    "    ky=1/(2*dy)\n",
    "    \n",
    "\n",
    "    for i in range(2, row):\n",
    "        for j in range(2, col):\n",
    "                                                          \n",
    "            b[i-1,j-1]=((1/dt)*(kx*(u[i,j-1] -u[i-2,j-1]) + ky*(v[i-1,j] -v[i-1,j-2])) -\n",
    "                        (kx*(u[i,j-1] -u[i-2,j-1]))**2 - \n",
    "                        2*ky*kx*(u[i-1,j] -u[i-1,j-2])*(v[i,j-1] -v[i-2,j-1]) - \n",
    "                        (ky*(v[i-1,j] -v[i-1,j-2]))**2)\n",
    "\n",
    "    return b\n",
    "\n",
    "def pressure_poisson_pure(p, dx, dy, b):\n",
    "    pn = np.empty_like(p)\n",
    "    row, col = p.shape\n",
    "    pn = pn.copy()\n",
    "                            \n",
    "    for i in range(2, row):\n",
    "            for j in range(2, col):\n",
    "                p[i-1, j-1] = (((pn[i-1, j] + pn[i-1, j-2]) * dy**2 +\n",
    "                                (pn[i, j-1] + pn[i-2, j-1]) * dx**2 -\n",
    "                                b[i-1, j-1] * dx**2 * dy**2) / \n",
    "                                (2 * (dx**2 + dy**2)))\n",
    "        \n",
    "        #les condition aux bords\n",
    "        # pour x=0 et x=2\n",
    "    p[:, 0] = p[:,1]\n",
    "    p[:, col-1] =p[:,col-2]\n",
    "                                   \n",
    "        # pour y=0                \n",
    "    p[0 , :] = p[1 , :]\n",
    "                            \n",
    "        # pour y=2                     \n",
    "    p[row-1, :] = 0\n",
    "       \n",
    "        \n",
    "    return p\n",
    "\n",
    "def cavity_flow_pure(nt, u, v, dt, nx, ny, dx, dy, p, rho, nu):\n",
    "    un = np.empty_like(u)\n",
    "    vn = np.empty_like(v)\n",
    "    b = np.zeros((ny, nx))\n",
    "    row, col = u.shape\n",
    "    \n",
    "    pn = np.empty_like(p)\n",
    "    pn = p.copy()\n",
    "    kx=dt/dx\n",
    "    ky=dt/dy\n",
    "    k1=nu*dt/dx**2\n",
    "    k2=nu*dt/dy**2\n",
    "    for k in range(nt):\n",
    "        un=u.copy()\n",
    "        vn=v.copy()\n",
    "        for i in range(2, row):\n",
    "            for j in range(2, col):\n",
    "                                                          \n",
    "                u[i-1,j-1]=(un[i-1,j-1] -\n",
    "                            kx*un[i-1,j-1]*(un[i-1,j-1] - un[i-2,j-1]) -\n",
    "                            ky*vn[i-1,j-1]*(un[i-1,j-1] - un[i-1,j-2]) -\n",
    "                            (kx/(2*rho))*(p[i,j-1]-p[i-2,j-1]) +\n",
    "                            k1*(un[i,j-1] - 2*un[i-1,j-1] + un[i-2,j-1]) +\n",
    "                            k2*(un[i-1,j] - 2*un[i-1,j-1] + un[i-1,j-2]))\n",
    "                \n",
    "                v[i-1,j-1]=(vn[i-1,j-1] -\n",
    "                            kx*un[i-1,j-1]*(vn[i-1,j-1] - vn[i-2,j-1]) -\n",
    "                            ky*vn[i-1,j-1]*(vn[i-1,j-1] - vn[i-1,j-2]) -\n",
    "                            (ky/(2*rho))*(p[i-1,j]-p[i-1,j-2]) +\n",
    "                            k1*(vn[i,j-1] - 2*vn[i-1,j-1] + vn[i-2,j-1]) +\n",
    "                            k2*(vn[i-1,j] - 2*vn[i-1,j-1] + vn[i-1,j-2]))\n",
    "    \n",
    "            #les condition aux bords\n",
    "        # pour x=0 et x=2\n",
    "        u[:, 0] = 0\n",
    "        u[:, col-1] =0\n",
    "        \n",
    "        v[:, 0] = 0\n",
    "        v[:, col-1] =0\n",
    "                                   \n",
    "        # pour y=0                \n",
    "        u[0, :] = 0\n",
    "        v[0, :] = 0                    \n",
    "        # pour y=2                     \n",
    "        u[row-1, :] = 1\n",
    "        v[row-1, :] = 0\n",
    "        \n",
    "        \n",
    "    return u, v, p"
   ]
  },
  {
   "cell_type": "markdown",
   "metadata": {},
   "source": [
    "## Inputs"
   ]
  },
  {
   "cell_type": "code",
   "execution_count": 8,
   "metadata": {
    "scrolled": true
   },
   "outputs": [
    {
     "name": "stderr",
     "output_type": "stream",
     "text": [
      "/home/cisse/anaconda3/lib/python3.7/site-packages/ipykernel_launcher.py:26: UserWarning: No contour levels were found within the data range.\n"
     ]
    },
    {
     "data": {
      "image/png": "[encoded data removed]",
      "text/plain": [
       "<Figure size 500x300 with 2 Axes>"
      ]
     },
     "metadata": {
      "needs_background": "light"
     },
     "output_type": "display_data"
    }
   ],
   "source": [
    "nx = 41\n",
    "ny = 41\n",
    "nt = 500\n",
    "nit = 50\n",
    "c = 1\n",
    "dx = 2 / (nx - 1)\n",
    "dy = 2 / (ny - 1)\n",
    "x = np.linspace(0, 2, nx)\n",
    "y = np.linspace(0, 2, ny)\n",
    "X, Y = np.meshgrid(x, y)\n",
    "\n",
    "rho = 1\n",
    "nu = .1\n",
    "dt = .001\n",
    "\n",
    "u = np.zeros((ny, nx))\n",
    "v = np.zeros((ny, nx))\n",
    "p = np.zeros((ny, nx)) \n",
    "b = np.zeros((ny, nx))\n",
    "\n",
    "u, v, p = cavity_flow_numba(nt, u, v, dt, nx, ny, dx, dy, p, rho, nu)\n",
    "\n",
    "fig = pyplot.figure(figsize=(5, 3), dpi=100)\n",
    "pyplot.contourf(X, Y, p, alpha=0.5, cmap=cm.viridis)\n",
    "pyplot.colorbar()\n",
    "pyplot.contour(X, Y, p, cmap=cm.viridis)\n",
    "pyplot.quiver(X[::2, ::2], Y[::2, ::2], u[::2, ::2], v[::2, ::2])\n",
    "pyplot.xlabel('X')\n",
    "pyplot.ylabel('Y');"
   ]
  },
  {
   "cell_type": "code",
   "execution_count": 9,
   "metadata": {},
   "outputs": [
    {
     "name": "stderr",
     "output_type": "stream",
     "text": [
      "/home/cisse/anaconda3/lib/python3.7/site-packages/ipykernel_launcher.py:4: UserWarning: No contour levels were found within the data range.\n",
      "  after removing the cwd from sys.path.\n"
     ]
    },
    {
     "data": {
      "image/png": "[encoded data removed]",
      "text/plain": [
       "<Figure size 500x300 with 2 Axes>"
      ]
     },
     "metadata": {
      "needs_background": "light"
     },
     "output_type": "display_data"
    }
   ],
   "source": [
    "fig = pyplot.figure(figsize=(5, 3), dpi=100)\n",
    "pyplot.contourf(X, Y, p, alpha=0.5, cmap=cm.viridis)\n",
    "pyplot.colorbar()\n",
    "pyplot.contour(X, Y, p, cmap=cm.viridis)\n",
    "pyplot.streamplot(X, Y, u, v)\n",
    "pyplot.xlabel('X')\n",
    "pyplot.ylabel('Y');"
   ]
  },
  {
   "cell_type": "markdown",
   "metadata": {},
   "source": [
    "## Call Funtions"
   ]
  },
  {
   "cell_type": "markdown",
   "metadata": {},
   "source": [
    "## Pure python function"
   ]
  },
  {
   "cell_type": "code",
   "execution_count": 10,
   "metadata": {},
   "outputs": [
    {
     "name": "stdout",
     "output_type": "stream",
     "text": [
      "8.52 s ± 308 ms per loop (mean ± std. dev. of 7 runs, 1 loop each)\n"
     ]
    }
   ],
   "source": [
    "%timeit cavity_flow_pure(nt, u, v, dt, ny, ny, dx, dy, p, rho, nu)"
   ]
  },
  {
   "cell_type": "markdown",
   "metadata": {},
   "source": [
    "## Numba accelerator"
   ]
  },
  {
   "cell_type": "code",
   "execution_count": 11,
   "metadata": {},
   "outputs": [
    {
     "name": "stdout",
     "output_type": "stream",
     "text": [
      "8.31 ms ± 79.6 µs per loop (mean ± std. dev. of 7 runs, 100 loops each)\n"
     ]
    }
   ],
   "source": [
    "%timeit cavity_flow_numba(nt, u, v, dt, ny, ny, dx, dy, p, rho, nu)"
   ]
  },
  {
   "cell_type": "code",
   "execution_count": null,
   "metadata": {},
   "outputs": [],
   "source": []
  }
 ],
 "metadata": {
  "kernelspec": {
   "display_name": "Python 3",
   "language": "python",
   "name": "python3"
  },
  "language_info": {
   "codemirror_mode": {
    "name": "ipython",
    "version": 3
   },
   "file_extension": ".py",
   "mimetype": "text/x-python",
   "name": "python",
   "nbconvert_exporter": "python",
   "pygments_lexer": "ipython3",
   "version": "3.7.9"
  }
 },
 "nbformat": 4,
 "nbformat_minor": 2
}

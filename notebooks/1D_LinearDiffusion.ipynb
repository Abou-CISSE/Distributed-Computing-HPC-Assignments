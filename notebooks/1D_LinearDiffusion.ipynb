{
 "cells": [
  {
   "cell_type": "markdown",
   "metadata": {},
   "source": [
    "## Imports"
   ]
  },
  {
   "cell_type": "code",
   "execution_count": 10,
   "metadata": {},
   "outputs": [],
   "source": [
    "import numpy as np\n",
    "import matplotlib.pyplot as plt\n",
    "import time\n",
    "from numba import njit\n",
    "from pyccel.epyccel import epyccel\n",
    "from pyccel.decorators import types"
   ]
  },
  {
   "cell_type": "markdown",
   "metadata": {},
   "source": [
    "## Pure python function"
   ]
  },
  {
   "cell_type": "code",
   "execution_count": 11,
   "metadata": {},
   "outputs": [],
   "source": [
    "def solve_1d_diff_pure(u, un, nt, nx, dt, dx, nu):\n",
    "    k=nu*dt/(dx*dx)\n",
    "    for it in range(nt):\n",
    "        for i in range(nx): un[i] = u[i]\n",
    "        for i in range(1,nx-1):            \n",
    "                u[i] = un[i]+k*(un[i+1]-2*un[i]+un[i-1]) \n",
    "        u[nx-1]=u[nx-2]\n",
    "        \n",
    "    return 0"
   ]
  },
  {
   "cell_type": "markdown",
   "metadata": {},
   "source": [
    "## Numba accelerator"
   ]
  },
  {
   "cell_type": "code",
   "execution_count": 12,
   "metadata": {},
   "outputs": [],
   "source": [
    "#add the numba decorator to accelerate code\n",
    "@njit(fastmath=True)\n",
    "def solve_1d_diff_numba(u, un, nt, nx, dt, dx, nu):\n",
    "    \n",
    "    for it in range(nt):\n",
    "        for i in range(nx): un[i] = u[i]\n",
    "        for i in range(1,nx-1):            \n",
    "                u[i] = un[i]+(nu*dt/(dx*dx))*(un[i+1]-2*un[i]+un[i-1]) \n",
    "        u[nx-1]=u[nx-2]\n",
    "    \n",
    "   \n",
    "    return 0"
   ]
  },
  {
   "cell_type": "markdown",
   "metadata": {},
   "source": [
    "## Pyccel accelerator"
   ]
  },
  {
   "cell_type": "code",
   "execution_count": 13,
   "metadata": {},
   "outputs": [],
   "source": [
    "#add the pyccel decorator to accelerate code\n",
    "@types('float[:]', 'float[:]', 'int', 'int', 'float','float', 'float')\n",
    "\n",
    "def solve_1d_diff_pyccel(u, un, nt, nx, dt, dx, nu):\n",
    "    \n",
    "    for it in range(nt):\n",
    "        for i in range(nx): un[i] = u[i]\n",
    "        for i in range(1,nx-1):            \n",
    "                u[i] = un[i]+(nu*dt/(dx*dx))*(un[i+1]-2*un[i]+un[i-1]) \n",
    "        u[nx-1]=u[nx-2]    \n",
    "    \n",
    "    return 0"
   ]
  },
  {
   "cell_type": "markdown",
   "metadata": {},
   "source": [
    "## Inputs"
   ]
  },
  {
   "cell_type": "code",
   "execution_count": 14,
   "metadata": {},
   "outputs": [
    {
     "data": {
      "text/plain": [
       "Text(0.5, 1.0, '1D Diffusion')"
      ]
     },
     "execution_count": 14,
     "metadata": {},
     "output_type": "execute_result"
    },
    {
     "data": {
      "image/png": "[encoded data removed]",
      "text/plain": [
       "<Figure size 432x288 with 1 Axes>"
      ]
     },
     "metadata": {
      "needs_background": "light"
     },
     "output_type": "display_data"
    }
   ],
   "source": [
    "nx = 501\n",
    "dx = 2 / (nx - 1)\n",
    "nt = 200    #the number of timesteps we want to calculate\n",
    "nu = 0.3   #the value of viscosity\n",
    "CFL = .5 #sigma is a parameter, we'll learn more about it later\n",
    "dt = CFL * dx**2 / nu #dt is defined using sigma ... more later!\n",
    "grid = np.linspace(0,2,nx) # creating the space grid\n",
    "\n",
    "u0 = np.ones(nx)      #a numpy array with nx elements all equal to 1.\n",
    "u0[int(.5 / dx):int(1 / dx + 1)] = 2  #setting u = 2 between 0.5 and 1 as per our I.C.s\n",
    "plt.plot(grid,u0);\n",
    "u = u0.copy()\n",
    "un = np.ones(nx) #our placeholder array, un, to advance the solution in time\n",
    "\n",
    "solve_1d_diff_pure(u, un, nt, nx, dt, dx, nu)\n",
    "#Plotting data\n",
    "plt.plot(grid,u);\n",
    "#plt.ylim([1.,2.2])\n",
    "plt.xlabel('X')\n",
    "plt.ylabel('Velocity')    \n",
    "plt.title('1D Diffusion') \n"
   ]
  },
  {
   "cell_type": "markdown",
   "metadata": {},
   "source": [
    "## Call Funtions"
   ]
  },
  {
   "cell_type": "markdown",
   "metadata": {},
   "source": [
    "### Pure function"
   ]
  },
  {
   "cell_type": "code",
   "execution_count": 19,
   "metadata": {},
   "outputs": [
    {
     "name": "stdout",
     "output_type": "stream",
     "text": [
      "153 ms ± 7.27 ms per loop (mean ± std. dev. of 7 runs, 10 loops each)\n"
     ]
    }
   ],
   "source": [
    "%timeit solve_1d_diff_pure(u, un, nt, nx, dt, dx, nu)"
   ]
  },
  {
   "cell_type": "markdown",
   "metadata": {},
   "source": [
    "### Function with numba accelerator"
   ]
  },
  {
   "cell_type": "code",
   "execution_count": 20,
   "metadata": {},
   "outputs": [
    {
     "name": "stdout",
     "output_type": "stream",
     "text": [
      "35.6 µs ± 2.69 µs per loop (mean ± std. dev. of 7 runs, 10000 loops each)\n"
     ]
    }
   ],
   "source": [
    "%timeit solve_1d_diff_numba(u, un, nt, nx, dt, dx, nu)"
   ]
  },
  {
   "cell_type": "markdown",
   "metadata": {},
   "source": [
    "### Function with pyccel accelerator"
   ]
  },
  {
   "cell_type": "code",
   "execution_count": 21,
   "metadata": {},
   "outputs": [],
   "source": [
    "solve_1d_diff_f90 = epyccel(solve_1d_diff_pyccel)"
   ]
  },
  {
   "cell_type": "code",
   "execution_count": 22,
   "metadata": {},
   "outputs": [
    {
     "name": "stdout",
     "output_type": "stream",
     "text": [
      "78.2 µs ± 2.1 µs per loop (mean ± std. dev. of 7 runs, 10000 loops each)\n"
     ]
    }
   ],
   "source": [
    "%timeit solve_1d_diff_f90(u, un, nt, nx, dt, dx, nu)"
   ]
  },
  {
   "cell_type": "code",
   "execution_count": null,
   "metadata": {},
   "outputs": [],
   "source": []
  },
  {
   "cell_type": "code",
   "execution_count": null,
   "metadata": {},
   "outputs": [],
   "source": []
  }
 ],
 "metadata": {
  "kernelspec": {
   "display_name": "Python 3",
   "language": "python",
   "name": "python3"
  },
  "language_info": {
   "codemirror_mode": {
    "name": "ipython",
    "version": 3
   },
   "file_extension": ".py",
   "mimetype": "text/x-python",
   "name": "python",
   "nbconvert_exporter": "python",
   "pygments_lexer": "ipython3",
   "version": "3.7.9"
  }
 },
 "nbformat": 4,
 "nbformat_minor": 2
}
